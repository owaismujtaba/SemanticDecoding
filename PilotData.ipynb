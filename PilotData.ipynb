{
 "cells": [
  {
   "cell_type": "code",
   "execution_count": 1,
   "metadata": {},
   "outputs": [],
   "source": [
    "import mne\n",
    "import numpy as np\n",
    "import pyxdf\n",
    "from datetime import datetime\n",
    "from collections import Counter"
   ]
  },
  {
   "cell_type": "code",
   "execution_count": 2,
   "metadata": {},
   "outputs": [],
   "source": [
    "filepath = 'C:\\PilotData\\sub-Pilooto1_ses-S001_task-Default_run-001_eeg.xdf'\n",
    "data, header = pyxdf.load_xdf(filepath)"
   ]
  },
  {
   "cell_type": "code",
   "execution_count": 46,
   "metadata": {},
   "outputs": [],
   "source": [
    "class XDFData:\n",
    "    def __init__(self, filepath=None) -> None:\n",
    "        self.rawData = None\n",
    "        self.filepath = filepath\n",
    "        self.data = data\n",
    "        self.header = header\n",
    "        self.setupData()\n",
    "        self.printInfo()\n",
    "        self.createMNEObjectForEEG()\n",
    "        self.makeAnnotations()\n",
    "    def loadXdfData(self):\n",
    "        self.data, self.header = pyxdf.load_xdf(filepath)\n",
    "    def setupData(self,):\n",
    "        self.eegChannelNames = []\n",
    "        self.measDate = self.header['info']['datetime'][0]\n",
    "        self.markers = self.data[1]['time_series']\n",
    "        self.markers.pop()\n",
    "        self.markers = [marker[0] for marker in self.markers]\n",
    "        self.markersTimestamps = self.data[1]['time_stamps']\n",
    "        self.eegData = self.data[2]['time_series']\n",
    "        self.eegSamplingFrequency = int(float(self.data[2]['info']['nominal_srate'][0]))\n",
    "        self.eegTimestamps = self.data[2]['time_stamps']\n",
    "        self.audioData = self.data[3]['time_series']\n",
    "        self.audioTimestamps = self.data[3]['time_stamps']\n",
    "        self.audioSamplingFrequency = int(float(self.data[3]['info']['nominal_srate'][0]))\n",
    "        channelNames = data[2]['info']['desc'][0]['channels'][0]['channel']\n",
    "        for item in channelNames:\n",
    "            self.eegChannelNames.append(item['label'][0]) \n",
    "    def printInfo(self):\n",
    "        print(f'No of Markers: {len(self.markers)} No .of Marker Timestamps: {self.markersTimestamps.shape[0]}')\n",
    "        print(f'EEG data Shape: {self.eegData.shape} No .of eeg Timestamps: {self.eegTimestamps.shape[0]}')\n",
    "        print(f'Audio data Shape: {self.audioData.shape} No .of audio Timestamps: {self.audioTimestamps.shape[0]}')\n",
    "        print('EEG Channels:', self.eegChannelNames)\n",
    "        print(f'Sampling Frequency ::: EEG: {self.eegSamplingFrequency}, Audio: {self.audioSamplingFrequency}')\n",
    "    def createMNEObjectForEEG(self):\n",
    "        meas_date = datetime.strptime(self.measDate, '%Y-%m-%dT%H:%M:%S%z')\n",
    "        meas_date = (int(meas_date.timestamp()), int(meas_date.microsecond))\n",
    "        info = mne.create_info(\n",
    "            ch_names=self.eegChannelNames, \n",
    "            sfreq=self.eegSamplingFrequency, \n",
    "            ch_types='eeg',\n",
    "        )\n",
    "        info.set_meas_date(meas_date)\n",
    "        self.rawEegMNEData = mne.io.RawArray(self.eegData.T, info)\n",
    "    def getOnsetCodesForAnnotations(self):\n",
    "        codes = []\n",
    "        onset = []\n",
    "        description = []\n",
    "        duration = []\n",
    "        markers = self.markers\n",
    "        markersTimestamps = self.markersTimestamps - self.eegTimestamps[0]\n",
    "        for index in range(len(markers)-1):\n",
    "            marker = markers[index]\n",
    "            code = ''\n",
    "            if 'Silent' in marker:\n",
    "                code += '10' \n",
    "            if 'Real' in marker:\n",
    "                code += '11' \n",
    "            if 'Word' in marker:\n",
    "                code += '12' \n",
    "            if 'Syllable' in marker:\n",
    "                code += '13' \n",
    "            if 'Practice' in marker:\n",
    "                code += '14' \n",
    "            if 'Experiment' in marker:\n",
    "                code += '15' \n",
    "            if 'Start' in marker:\n",
    "                code += '16' \n",
    "            if 'End' in marker:\n",
    "                code += '17' \n",
    "            if 'Fixation' in marker:\n",
    "                code += '18' \n",
    "            elif 'Stimulus' in marker:\n",
    "                code += '19' \n",
    "            elif 'ISI' in marker:\n",
    "                code += '20' \n",
    "            elif 'ITI' in marker:\n",
    "                code += '21' \n",
    "            elif 'Speech' in marker:\n",
    "                code += '22' \n",
    "            else:\n",
    "                print(marker)\n",
    "            \n",
    "            if 'Audio' in marker:\n",
    "                code += '23'\n",
    "            elif 'Text' in marker:\n",
    "                code += '24'\n",
    "            elif 'Speech' in marker:\n",
    "                code += '25'\n",
    "\n",
    "            codes.append(code)\n",
    "            onset.append(markersTimestamps[index])\n",
    "            description.append(marker)\n",
    "            duration.append(markersTimestamps[index+1]-markersTimestamps[index])\n",
    "\n",
    "        return onset, codes, duration\n",
    "\n",
    "    def makeAnnotations(self):\n",
    "        onset, codes, duration = self.getOnsetCodesForAnnotations()\n",
    "        rawMNEWithAnnotations = self.rawEegMNEData.copy()\n",
    "        rawMNEWithAnnotations.set_annotations(mne.Annotations(onset=onset, description=codes, duration=duration))\n",
    "\n",
    "        self.rawMNEWithAnnotations = rawMNEWithAnnotations"
   ]
  },
  {
   "cell_type": "code",
   "execution_count": 48,
   "metadata": {},
   "outputs": [
    {
     "name": "stdout",
     "output_type": "stream",
     "text": [
      "No of Markers: 5314 No .of Marker Timestamps: 5322\n",
      "EEG data Shape: (3814127, 64) No .of eeg Timestamps: 3814127\n",
      "Audio data Shape: (183075840, 1) No .of audio Timestamps: 183075840\n",
      "EEG Channels: ['Fp1', 'Fz', 'F3', 'F7', 'FT9', 'FC5', 'FC1', 'C3', 'T7', 'EOG1', 'CP5', 'CP1', 'Pz', 'P3', 'P7', 'O1', 'Oz', 'O2', 'P4', 'P8', 'EOG2', 'CP6', 'CP2', 'Cz', 'C4', 'T8', 'FT10', 'FC6', 'FC2', 'F4', 'F8', 'Fp2', 'AF7', 'AF3', 'AFz', 'F1', 'F5', 'FT7', 'FC3', 'C1', 'C5', 'TP7', 'CP3', 'P1', 'P5', 'PO7', 'PO3', 'POz', 'PO4', 'PO8', 'P6', 'P2', 'CPz', 'CP4', 'TP8', 'C6', 'C2', 'FC4', 'FT8', 'F6', 'AF8', 'AF4', 'F2', 'FCz']\n",
      "Sampling Frequency ::: EEG: 1000, Audio: 48000\n",
      "Creating RawArray with float64 data, n_channels=64, n_times=3814127\n",
      "    Range : 0 ... 3814126 =      0.000 ...  3814.126 secs\n",
      "Ready.\n"
     ]
    },
    {
     "data": {
      "text/plain": [
       "<Annotations | 5313 segments: 1012141618 (2), 101214161823 (4), ...>"
      ]
     },
     "execution_count": 48,
     "metadata": {},
     "output_type": "execute_result"
    }
   ],
   "source": [
    "obj = XDFData()\n"
   ]
  },
  {
   "cell_type": "code",
   "execution_count": null,
   "metadata": {},
   "outputs": [],
   "source": []
  },
  {
   "cell_type": "code",
   "execution_count": null,
   "metadata": {},
   "outputs": [],
   "source": []
  },
  {
   "cell_type": "code",
   "execution_count": null,
   "metadata": {},
   "outputs": [],
   "source": []
  },
  {
   "cell_type": "code",
   "execution_count": null,
   "metadata": {},
   "outputs": [],
   "source": []
  }
 ],
 "metadata": {
  "kernelspec": {
   "display_name": "anot",
   "language": "python",
   "name": "python3"
  },
  "language_info": {
   "codemirror_mode": {
    "name": "ipython",
    "version": 3
   },
   "file_extension": ".py",
   "mimetype": "text/x-python",
   "name": "python",
   "nbconvert_exporter": "python",
   "pygments_lexer": "ipython3",
   "version": "3.10.14"
  }
 },
 "nbformat": 4,
 "nbformat_minor": 2
}
