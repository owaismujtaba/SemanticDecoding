{
 "cells": [
  {
   "cell_type": "code",
   "execution_count": null,
   "metadata": {},
   "outputs": [],
   "source": []
  },
  {
   "cell_type": "code",
   "execution_count": null,
   "metadata": {},
   "outputs": [],
   "source": [
    "from tensorflow.keras.layers import Input, Conv2D, BatchNormalization, DepthwiseConv2D, Activation, AveragePooling2D, Dropout, SeparableConv2D, Flatten, Dense, SpatialDropout2D\n",
    "from tensorflow.keras.constraints import max_norm\n",
    "from tensorflow.keras.models import Model\n",
    "from tensorflow.keras.utils.vis_utils import plot_model\n",
    "\n",
    "class EEGNet:\n",
    "    def __init__(self, numClasses, chans=124, samples=1059, \n",
    "                 dropoutRate=0.5, kernLength=64, F1=8, \n",
    "                 D=2, F2=16, normRate=0.25, dropoutType='Dropout'):\n",
    "        print('*************Building EEGNet Based Architecture*****************')\n",
    "        self.nbClasses = numClasses\n",
    "        self.chans = chans\n",
    "        self.samples = samples\n",
    "        self.dropoutRate = dropoutRate\n",
    "        self.kernLength = kernLength\n",
    "        self.F1 = F1\n",
    "        self.D = D\n",
    "        self.F2 = F2\n",
    "        self.normRate = normRate\n",
    "        self.dropoutType = dropoutType\n",
    "\n",
    "        if self.dropoutType == 'SpatialDropout2D':\n",
    "            self.dropoutType = SpatialDropout2D\n",
    "        elif self.dropoutType == 'Dropout':\n",
    "            self.dropoutType = Dropout\n",
    "        else:\n",
    "            raise ValueError('dropoutType must be one of SpatialDropout2D or Dropout, passed as a string.')\n",
    "\n",
    "    def buildModel(self):\n",
    "        input1 = Input(shape=(self.chans, self.samples, 1))\n",
    "\n",
    "        # Block 1\n",
    "        block1 = Conv2D(self.F1, (1, self.kernLength), padding='same', use_bias=False)(input1)\n",
    "        block1 = Conv2D(self.F1, (1, self.kernLength), padding='same', use_bias=False)(block1)\n",
    "        block1 = BatchNormalization()(block1)\n",
    "        block1 = DepthwiseConv2D((self.chans, 1), use_bias=False, depth_multiplier=self.D, depthwise_constraint=max_norm(1.))(block1)\n",
    "        block1 = BatchNormalization()(block1)\n",
    "        block1 = Activation('elu')(block1)\n",
    "        block1 = AveragePooling2D((1, 4))(block1)\n",
    "        block1 = self.dropoutType(self.dropoutRate)(block1)\n",
    "\n",
    "        # Block 2\n",
    "        block2 = SeparableConv2D(self.F2, (1, 16), use_bias=False, padding='same')(block1)\n",
    "        block2 = BatchNormalization()(block2)\n",
    "        block2 = Activation('elu')(block2)\n",
    "        block2 = AveragePooling2D((1, 8))(block2)\n",
    "        block2 = self.dropoutType(self.dropoutRate)(block2)\n",
    "\n",
    "        # Flatten and Dense layers\n",
    "        flatten = Flatten(name='flatten')(block2)\n",
    "        dense = Dense(self.nbClasses, name='dense', kernel_constraint=max_norm(self.normRate))(flatten)\n",
    "        softmax = Activation('softmax', name='softmax')(dense)\n",
    "\n",
    "        return Model(inputs=input1, outputs=softmax)\n",
    "\n",
    "# Instantiate the model\n",
    "eeg_net = EEGNet(numClasses=10)\n",
    "model = eeg_net.buildModel()\n",
    "\n",
    "\n"
   ]
  },
  {
   "cell_type": "code",
   "execution_count": null,
   "metadata": {},
   "outputs": [],
   "source": []
  },
  {
   "cell_type": "code",
   "execution_count": null,
   "metadata": {},
   "outputs": [],
   "source": []
  }
 ],
 "metadata": {
  "kernelspec": {
   "display_name": "anot",
   "language": "python",
   "name": "python3"
  },
  "language_info": {
   "codemirror_mode": {
    "name": "ipython",
    "version": 3
   },
   "file_extension": ".py",
   "mimetype": "text/x-python",
   "name": "python",
   "nbconvert_exporter": "python",
   "pygments_lexer": "ipython3",
   "version": "3.10.14"
  }
 },
 "nbformat": 4,
 "nbformat_minor": 2
}
