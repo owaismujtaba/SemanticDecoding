{
 "cells": [
  {
   "cell_type": "code",
   "execution_count": 23,
   "metadata": {},
   "outputs": [],
   "source": [
    "import mne\n",
    "import numpy as np\n",
    "import tensorflow as tf\n",
    "from sklearn.ensemble import RandomForestClassifier\n",
    "from sklearn.decomposition import PCA\n",
    "\n",
    "from sklearn.metrics import confusion_matrix, classification_report\n",
    "from matplotlib import pyplot as plt\n",
    "import seaborn as sns\n",
    "import pandas as pd\n",
    "from sklearn.model_selection import train_test_split"
   ]
  },
  {
   "cell_type": "code",
   "execution_count": 2,
   "metadata": {},
   "outputs": [],
   "source": [
    "def cleanEvents(events):\n",
    "    cleanedEvents = []\n",
    "    ignoreEvents = [100, 200, 201]\n",
    "    for event in events[0]:\n",
    "        if event[2] in ignoreEvents:\n",
    "            continue\n",
    "        else:\n",
    "            cleanedEvents.append(event)\n",
    "    cleanedEvents = np.array(cleanedEvents)\n",
    "    return cleanedEvents\n",
    "\n",
    "def perceptionAndImaginationEvents(events): \n",
    "    cleanedEvents = cleanEvents(events)\n",
    "    perceptionKeys = []\n",
    "    imaginationKeys = []\n",
    "    for item, key in events[1].items():\n",
    "        if 'Perception' in item:\n",
    "            perceptionKeys.append(key)\n",
    "        if 'Imagination' in item:\n",
    "            imaginationKeys.append(key)\n",
    "\n",
    "    for index in range(cleanedEvents.shape[0]):\n",
    "        key = cleanedEvents[index][2]\n",
    "        if key in perceptionKeys:\n",
    "            cleanedEvents[index][2] = 1\n",
    "        elif key in imaginationKeys:\n",
    "            cleanedEvents[index][2] = 2\n",
    "\n",
    "    return cleanedEvents\n",
    "    \n"
   ]
  },
  {
   "cell_type": "code",
   "execution_count": 3,
   "metadata": {},
   "outputs": [],
   "source": [
    "def getPerceptionImaginationDataFromSubject(filepath):\n",
    "    print(f'Loading MNE Data {filepath}')\n",
    "    data = mne.io.read_raw_fif(filepath, preload=True, verbose=False)\n",
    "    events = mne.events_from_annotations(data)\n",
    "    cleanedEvents = perceptionAndImaginationEvents(events)\n",
    "    newEventId = {'Perception':1, 'Imagination':2}\n",
    "    epochs = mne.Epochs(data.copy(), cleanedEvents, event_id=newEventId, tmin=-0.2, tmax=1.0, preload=True)\n",
    "    perception = epochs['Perception'].get_data()\n",
    "    imagination = epochs['Imagination'].get_data()\n",
    "    \n",
    "    return perception, imagination"
   ]
  },
  {
   "cell_type": "code",
   "execution_count": 4,
   "metadata": {},
   "outputs": [],
   "source": [
    "def createXAndY(filepath, start=230):\n",
    "    perception, imagination =  getPerceptionImaginationDataFromSubject(filepath)\n",
    "    perception = perception[:,:,start:]\n",
    "    imagination = imagination[:,:,start:]\n",
    "    imagLables= np.array([0 for i in range(imagination.shape[0])])\n",
    "    perceptionLabels = np.array([1 for i in range(imagination.shape[0])])\n",
    "    labels = np.concatenate((imagLables, perceptionLabels), axis=0)\n",
    "    X = np.concatenate((imagination, perception), axis=0)\n",
    "    X_flat = X.reshape(X.shape[0], -1)\n",
    "    return X_flat, labels"
   ]
  },
  {
   "cell_type": "code",
   "execution_count": 20,
   "metadata": {},
   "outputs": [],
   "source": [
    "def trainModel(filepath):\n",
    "    X, y = createXAndY(filepath)\n",
    "\n",
    "    X_train, X_test, y_train, y_test = train_test_split(X, y, random_state=42, test_size=0.2)\n",
    "\n",
    "    print(X_train.shape, X_test.shape)\n",
    "    print('Applying PCA for Dimentionality Reduction')\n",
    "    pca = PCA(n_components=0.95, random_state=42)\n",
    "    X_train_pca = pca.fit_transform(X_train)\n",
    "    X_test_pca = pca.transform(X_test)\n",
    "    print('Training model')\n",
    "    model = RandomForestClassifier(max_depth=30,\n",
    "                                min_samples_split=10,\n",
    "                                max_features='log2',\n",
    "                                oob_score=True\n",
    "                            )\n",
    "    model.fit(X_train_pca, y_train)\n",
    "    y_pred = model.predict(X_test_pca)\n",
    "    report = classification_report(y_test, y_pred, target_names=['Imagination', 'perception'], output_dict=True)\n",
    "    cm = confusion_matrix(y_test, y_pred)\n",
    "    return report, cm\n",
    "   \n",
    "\n",
    "    "
   ]
  },
  {
   "cell_type": "code",
   "execution_count": 24,
   "metadata": {},
   "outputs": [
    {
     "name": "stdout",
     "output_type": "stream",
     "text": [
      "Loading MNE Data C:\\ImaginationPerceptionDataset\\DataSet\\perceptionImaginationEEG\\preprocessed\\sub-03\\ses-03\\eeg\\sub3_sess3_50_ica_eeg.fif\n",
      "Used Annotations descriptions: ['0, Imagination_a_flower_high_10###my_stream_name', '0, Imagination_a_flower_high_11###my_stream_name', '0, Imagination_a_flower_high_17###my_stream_name', '0, Imagination_a_flower_high_23###my_stream_name', '0, Imagination_a_flower_high_4###my_stream_name', '0, Imagination_a_flower_high_5###my_stream_name', '0, Imagination_a_flower_low_10###my_stream_name', '0, Imagination_a_flower_low_13###my_stream_name', '0, Imagination_a_flower_low_17###my_stream_name', '0, Imagination_a_flower_low_23###my_stream_name', '0, Imagination_a_flower_low_25###my_stream_name', '0, Imagination_a_flower_low_5###my_stream_name', '0, Imagination_a_flower_normal_10###my_stream_name', '0, Imagination_a_flower_normal_11###my_stream_name', '0, Imagination_a_flower_normal_12###my_stream_name', '0, Imagination_a_flower_normal_16###my_stream_name', '0, Imagination_a_flower_normal_17###my_stream_name', '0, Imagination_a_flower_normal_19###my_stream_name', '0, Imagination_a_flower_normal_21###my_stream_name', '0, Imagination_a_flower_normal_22###my_stream_name', '0, Imagination_a_flower_normal_23###my_stream_name', '0, Imagination_a_flower_normal_24###my_stream_name', '0, Imagination_a_flower_normal_3###my_stream_name', '0, Imagination_a_flower_normal_5###my_stream_name', '0, Imagination_a_flower_normal_6###my_stream_name', '0, Imagination_a_guitar_high_11###my_stream_name', '0, Imagination_a_guitar_high_14###my_stream_name', '0, Imagination_a_guitar_high_18###my_stream_name', '0, Imagination_a_guitar_high_19###my_stream_name', '0, Imagination_a_guitar_high_25###my_stream_name', '0, Imagination_a_guitar_high_5###my_stream_name', '0, Imagination_a_guitar_low_10###my_stream_name', '0, Imagination_a_guitar_low_17###my_stream_name', '0, Imagination_a_guitar_low_19###my_stream_name', '0, Imagination_a_guitar_low_25###my_stream_name', '0, Imagination_a_guitar_low_3###my_stream_name', '0, Imagination_a_guitar_low_6###my_stream_name', '0, Imagination_a_guitar_normal_1###my_stream_name', '0, Imagination_a_guitar_normal_10###my_stream_name', '0, Imagination_a_guitar_normal_11###my_stream_name', '0, Imagination_a_guitar_normal_12###my_stream_name', '0, Imagination_a_guitar_normal_14###my_stream_name', '0, Imagination_a_guitar_normal_17###my_stream_name', '0, Imagination_a_guitar_normal_18###my_stream_name', '0, Imagination_a_guitar_normal_19###my_stream_name', '0, Imagination_a_guitar_normal_22###my_stream_name', '0, Imagination_a_guitar_normal_25###my_stream_name', '0, Imagination_a_guitar_normal_3###my_stream_name', '0, Imagination_a_guitar_normal_6###my_stream_name', '0, Imagination_a_guitar_normal_9###my_stream_name', '0, Imagination_a_penguin_high_10###my_stream_name', '0, Imagination_a_penguin_high_12###my_stream_name', '0, Imagination_a_penguin_high_25###my_stream_name', '0, Imagination_a_penguin_high_5###my_stream_name', '0, Imagination_a_penguin_high_6###my_stream_name', '0, Imagination_a_penguin_high_9###my_stream_name', '0, Imagination_a_penguin_low_10###my_stream_name', '0, Imagination_a_penguin_low_15###my_stream_name', '0, Imagination_a_penguin_low_19###my_stream_name', '0, Imagination_a_penguin_low_22###my_stream_name', '0, Imagination_a_penguin_low_25###my_stream_name', '0, Imagination_a_penguin_low_6###my_stream_name', '0, Imagination_a_penguin_normal_1 ###my_stream_name', '0, Imagination_a_penguin_normal_10###my_stream_name', '0, Imagination_a_penguin_normal_11###my_stream_name', '0, Imagination_a_penguin_normal_15###my_stream_name', '0, Imagination_a_penguin_normal_16###my_stream_name', '0, Imagination_a_penguin_normal_19###my_stream_name', '0, Imagination_a_penguin_normal_25###my_stream_name', '0, Imagination_a_penguin_normal_3###my_stream_name', '0, Imagination_a_penguin_normal_4###my_stream_name', '0, Imagination_a_penguin_normal_5###my_stream_name', '0, Imagination_a_penguin_normal_6###my_stream_name', '0, Imagination_a_penguin_normal_9###my_stream_name', '0, Imagination_audio_a_guitar_normal_10###my_stream_name', '0, Imagination_image_flower_c###my_stream_name', '0, Imagination_image_flower_m###my_stream_name', '0, Imagination_image_flower_s###my_stream_name', '0, Imagination_image_guitar_c###my_stream_name', '0, Imagination_image_guitar_m###my_stream_name', '0, Imagination_image_guitar_s###my_stream_name', '0, Imagination_image_penguin_c###my_stream_name', '0, Imagination_image_penguin_m###my_stream_name', '0, Imagination_image_penguin_s###my_stream_name', '0, Imagination_t_flower_1###my_stream_name', '0, Imagination_t_flower_2###my_stream_name', '0, Imagination_t_flower_3###my_stream_name', '0, Imagination_t_flower_4###my_stream_name', '0, Imagination_t_flower_5###my_stream_name', '0, Imagination_t_guitar_1###my_stream_name', '0, Imagination_t_guitar_2###my_stream_name', '0, Imagination_t_guitar_3###my_stream_name', '0, Imagination_t_guitar_4###my_stream_name', '0, Imagination_t_guitar_5###my_stream_name', '0, Imagination_t_penguin_1###my_stream_name', '0, Imagination_t_penguin_2###my_stream_name', '0, Imagination_t_penguin_3###my_stream_name', '0, Imagination_t_penguin_4###my_stream_name', '0, Imagination_t_penguin_5###my_stream_name', '0, Impedance', '0, Perception_image_flower_c###my_stream_name', '0, Perception_image_flower_m###my_stream_name', '0, Perception_image_flower_s###my_stream_name', '0, Perception_image_guitar_c###my_stream_name', '0, Perception_image_guitar_m###my_stream_name', '0, Perception_image_guitar_s###my_stream_name', '0, Perception_image_penguin_c###my_stream_name', '0, Perception_image_penguin_m###my_stream_name', '0, Perception_image_penguin_s###my_stream_name', '0, Perception_t_flower_1###my_stream_name', '0, Perception_t_flower_2###my_stream_name', '0, Perception_t_flower_3###my_stream_name', '0, Perception_t_flower_4###my_stream_name', '0, Perception_t_flower_5###my_stream_name', '0, Perception_t_guitar_1###my_stream_name', '0, Perception_t_guitar_2###my_stream_name', '0, Perception_t_guitar_3###my_stream_name', '0, Perception_t_guitar_4###my_stream_name', '0, Perception_t_guitar_5###my_stream_name', '0, Perception_t_penguin_1###my_stream_name', '0, Perception_t_penguin_2###my_stream_name', '0, Perception_t_penguin_3###my_stream_name', '0, Perception_t_penguin_4###my_stream_name', '0, Perception_t_penguin_5###my_stream_name', '0, Perceptiona_flower_high_10###my_stream_name', '0, Perceptiona_flower_high_11###my_stream_name', '0, Perceptiona_flower_high_17###my_stream_name', '0, Perceptiona_flower_high_23###my_stream_name', '0, Perceptiona_flower_high_4###my_stream_name', '0, Perceptiona_flower_high_5###my_stream_name', '0, Perceptiona_flower_low_10###my_stream_name', '0, Perceptiona_flower_low_13###my_stream_name', '0, Perceptiona_flower_low_17###my_stream_name', '0, Perceptiona_flower_low_23###my_stream_name', '0, Perceptiona_flower_low_25###my_stream_name', '0, Perceptiona_flower_low_5###my_stream_name', '0, Perceptiona_flower_normal_10###my_stream_name', '0, Perceptiona_flower_normal_11###my_stream_name', '0, Perceptiona_flower_normal_12###my_stream_name', '0, Perceptiona_flower_normal_16###my_stream_name', '0, Perceptiona_flower_normal_17###my_stream_name', '0, Perceptiona_flower_normal_19###my_stream_name', '0, Perceptiona_flower_normal_21###my_stream_name', '0, Perceptiona_flower_normal_22###my_stream_name', '0, Perceptiona_flower_normal_23###my_stream_name', '0, Perceptiona_flower_normal_24###my_stream_name', '0, Perceptiona_flower_normal_3###my_stream_name', '0, Perceptiona_flower_normal_5###my_stream_name', '0, Perceptiona_flower_normal_6###my_stream_name', '0, Perceptiona_guitar_high_11###my_stream_name', '0, Perceptiona_guitar_high_14###my_stream_name', '0, Perceptiona_guitar_high_18###my_stream_name', '0, Perceptiona_guitar_high_19###my_stream_name', '0, Perceptiona_guitar_high_25###my_stream_name', '0, Perceptiona_guitar_high_5###my_stream_name', '0, Perceptiona_guitar_low_10###my_stream_name', '0, Perceptiona_guitar_low_17###my_stream_name', '0, Perceptiona_guitar_low_19###my_stream_name', '0, Perceptiona_guitar_low_25###my_stream_name', '0, Perceptiona_guitar_low_3###my_stream_name', '0, Perceptiona_guitar_low_6###my_stream_name', '0, Perceptiona_guitar_normal_1###my_stream_name', '0, Perceptiona_guitar_normal_10###my_stream_name', '0, Perceptiona_guitar_normal_11###my_stream_name', '0, Perceptiona_guitar_normal_12###my_stream_name', '0, Perceptiona_guitar_normal_14###my_stream_name', '0, Perceptiona_guitar_normal_17###my_stream_name', '0, Perceptiona_guitar_normal_18###my_stream_name', '0, Perceptiona_guitar_normal_19###my_stream_name', '0, Perceptiona_guitar_normal_22###my_stream_name', '0, Perceptiona_guitar_normal_25###my_stream_name', '0, Perceptiona_guitar_normal_3###my_stream_name', '0, Perceptiona_guitar_normal_6###my_stream_name', '0, Perceptiona_guitar_normal_9###my_stream_name', '0, Perceptiona_penguin_high_10###my_stream_name', '0, Perceptiona_penguin_high_12###my_stream_name', '0, Perceptiona_penguin_high_25###my_stream_name', '0, Perceptiona_penguin_high_5###my_stream_name', '0, Perceptiona_penguin_high_6###my_stream_name', '0, Perceptiona_penguin_high_9###my_stream_name', '0, Perceptiona_penguin_low_10###my_stream_name', '0, Perceptiona_penguin_low_15###my_stream_name', '0, Perceptiona_penguin_low_19###my_stream_name', '0, Perceptiona_penguin_low_22###my_stream_name', '0, Perceptiona_penguin_low_25###my_stream_name', '0, Perceptiona_penguin_low_6###my_stream_name', '0, Perceptiona_penguin_normal_1 ###my_stream_name', '0, Perceptiona_penguin_normal_10###my_stream_name', '0, Perceptiona_penguin_normal_11###my_stream_name', '0, Perceptiona_penguin_normal_15###my_stream_name', '0, Perceptiona_penguin_normal_16###my_stream_name', '0, Perceptiona_penguin_normal_19###my_stream_name', '0, Perceptiona_penguin_normal_25###my_stream_name', '0, Perceptiona_penguin_normal_3###my_stream_name', '0, Perceptiona_penguin_normal_4###my_stream_name', '0, Perceptiona_penguin_normal_5###my_stream_name', '0, Perceptiona_penguin_normal_6###my_stream_name', '0, Perceptiona_penguin_normal_9###my_stream_name', '0, Perceptionaudio_a_guitar_normal_10###my_stream_name', '0, end_baseline###my_stream_name', '0, start_baseline###my_stream_name']\n",
      "Not setting metadata\n",
      "900 matching events found\n",
      "Setting baseline interval to [-0.2001953125, 0.0] s\n",
      "Applying baseline correction (mode: mean)\n",
      "0 projection items activated\n",
      "Using data from preloaded Raw for 900 events and 1230 original time points ...\n",
      "0 bad epochs dropped\n"
     ]
    },
    {
     "name": "stderr",
     "output_type": "stream",
     "text": [
      "C:\\Users\\Owais Mujtaba\\AppData\\Local\\Temp\\ipykernel_4148\\3163168001.py:8: FutureWarning: The current default of copy=False will change to copy=True in 1.7. Set the value of copy explicitly to avoid this warning\n",
      "  perception = epochs['Perception'].get_data()\n",
      "C:\\Users\\Owais Mujtaba\\AppData\\Local\\Temp\\ipykernel_4148\\3163168001.py:9: FutureWarning: The current default of copy=False will change to copy=True in 1.7. Set the value of copy explicitly to avoid this warning\n",
      "  imagination = epochs['Imagination'].get_data()\n"
     ]
    },
    {
     "name": "stdout",
     "output_type": "stream",
     "text": [
      "(720, 124000) (180, 124000)\n",
      "Training model\n"
     ]
    },
    {
     "ename": "ValueError",
     "evalue": "Invalid file path or buffer object type: <class 'dict'>",
     "output_type": "error",
     "traceback": [
      "\u001b[1;31m---------------------------------------------------------------------------\u001b[0m",
      "\u001b[1;31mValueError\u001b[0m                                Traceback (most recent call last)",
      "Cell \u001b[1;32mIn[24], line 26\u001b[0m\n\u001b[0;32m     17\u001b[0m     average_f1_score\u001b[38;5;241m.\u001b[39mappend(report[\u001b[38;5;124m'\u001b[39m\u001b[38;5;124mweighted avg\u001b[39m\u001b[38;5;124m'\u001b[39m][\u001b[38;5;124m'\u001b[39m\u001b[38;5;124mf1-score\u001b[39m\u001b[38;5;124m'\u001b[39m])\n\u001b[0;32m     20\u001b[0m data \u001b[38;5;241m=\u001b[39m {\u001b[38;5;124m'\u001b[39m\u001b[38;5;124mSubjectID\u001b[39m\u001b[38;5;124m'\u001b[39m: subjectIds,\n\u001b[0;32m     21\u001b[0m     \u001b[38;5;124m'\u001b[39m\u001b[38;5;124mSessionID\u001b[39m\u001b[38;5;124m'\u001b[39m:sessionIds,\n\u001b[0;32m     22\u001b[0m     \u001b[38;5;124m'\u001b[39m\u001b[38;5;124mPrecision\u001b[39m\u001b[38;5;124m'\u001b[39m:average_precision,\n\u001b[0;32m     23\u001b[0m     \u001b[38;5;124m'\u001b[39m\u001b[38;5;124mRecall\u001b[39m\u001b[38;5;124m'\u001b[39m:avergare_recall,\n\u001b[0;32m     24\u001b[0m     \u001b[38;5;124m'\u001b[39m\u001b[38;5;124mf1-score\u001b[39m\u001b[38;5;124m'\u001b[39m: average_f1_score\n\u001b[0;32m     25\u001b[0m     }\n\u001b[1;32m---> 26\u001b[0m data \u001b[38;5;241m=\u001b[39m \u001b[43mpd\u001b[49m\u001b[38;5;241;43m.\u001b[39;49m\u001b[43mread_csv\u001b[49m\u001b[43m(\u001b[49m\u001b[43mdata\u001b[49m\u001b[43m)\u001b[49m\n",
      "File \u001b[1;32m~\\AppData\\Roaming\\Python\\Python310\\site-packages\\pandas\\io\\parsers\\readers.py:1026\u001b[0m, in \u001b[0;36mread_csv\u001b[1;34m(filepath_or_buffer, sep, delimiter, header, names, index_col, usecols, dtype, engine, converters, true_values, false_values, skipinitialspace, skiprows, skipfooter, nrows, na_values, keep_default_na, na_filter, verbose, skip_blank_lines, parse_dates, infer_datetime_format, keep_date_col, date_parser, date_format, dayfirst, cache_dates, iterator, chunksize, compression, thousands, decimal, lineterminator, quotechar, quoting, doublequote, escapechar, comment, encoding, encoding_errors, dialect, on_bad_lines, delim_whitespace, low_memory, memory_map, float_precision, storage_options, dtype_backend)\u001b[0m\n\u001b[0;32m   1013\u001b[0m kwds_defaults \u001b[38;5;241m=\u001b[39m _refine_defaults_read(\n\u001b[0;32m   1014\u001b[0m     dialect,\n\u001b[0;32m   1015\u001b[0m     delimiter,\n\u001b[1;32m   (...)\u001b[0m\n\u001b[0;32m   1022\u001b[0m     dtype_backend\u001b[38;5;241m=\u001b[39mdtype_backend,\n\u001b[0;32m   1023\u001b[0m )\n\u001b[0;32m   1024\u001b[0m kwds\u001b[38;5;241m.\u001b[39mupdate(kwds_defaults)\n\u001b[1;32m-> 1026\u001b[0m \u001b[38;5;28;01mreturn\u001b[39;00m \u001b[43m_read\u001b[49m\u001b[43m(\u001b[49m\u001b[43mfilepath_or_buffer\u001b[49m\u001b[43m,\u001b[49m\u001b[43m \u001b[49m\u001b[43mkwds\u001b[49m\u001b[43m)\u001b[49m\n",
      "File \u001b[1;32m~\\AppData\\Roaming\\Python\\Python310\\site-packages\\pandas\\io\\parsers\\readers.py:620\u001b[0m, in \u001b[0;36m_read\u001b[1;34m(filepath_or_buffer, kwds)\u001b[0m\n\u001b[0;32m    617\u001b[0m _validate_names(kwds\u001b[38;5;241m.\u001b[39mget(\u001b[38;5;124m\"\u001b[39m\u001b[38;5;124mnames\u001b[39m\u001b[38;5;124m\"\u001b[39m, \u001b[38;5;28;01mNone\u001b[39;00m))\n\u001b[0;32m    619\u001b[0m \u001b[38;5;66;03m# Create the parser.\u001b[39;00m\n\u001b[1;32m--> 620\u001b[0m parser \u001b[38;5;241m=\u001b[39m TextFileReader(filepath_or_buffer, \u001b[38;5;241m*\u001b[39m\u001b[38;5;241m*\u001b[39mkwds)\n\u001b[0;32m    622\u001b[0m \u001b[38;5;28;01mif\u001b[39;00m chunksize \u001b[38;5;129;01mor\u001b[39;00m iterator:\n\u001b[0;32m    623\u001b[0m     \u001b[38;5;28;01mreturn\u001b[39;00m parser\n",
      "File \u001b[1;32m~\\AppData\\Roaming\\Python\\Python310\\site-packages\\pandas\\io\\parsers\\readers.py:1620\u001b[0m, in \u001b[0;36mTextFileReader.__init__\u001b[1;34m(self, f, engine, **kwds)\u001b[0m\n\u001b[0;32m   1617\u001b[0m     \u001b[38;5;28mself\u001b[39m\u001b[38;5;241m.\u001b[39moptions[\u001b[38;5;124m\"\u001b[39m\u001b[38;5;124mhas_index_names\u001b[39m\u001b[38;5;124m\"\u001b[39m] \u001b[38;5;241m=\u001b[39m kwds[\u001b[38;5;124m\"\u001b[39m\u001b[38;5;124mhas_index_names\u001b[39m\u001b[38;5;124m\"\u001b[39m]\n\u001b[0;32m   1619\u001b[0m \u001b[38;5;28mself\u001b[39m\u001b[38;5;241m.\u001b[39mhandles: IOHandles \u001b[38;5;241m|\u001b[39m \u001b[38;5;28;01mNone\u001b[39;00m \u001b[38;5;241m=\u001b[39m \u001b[38;5;28;01mNone\u001b[39;00m\n\u001b[1;32m-> 1620\u001b[0m \u001b[38;5;28mself\u001b[39m\u001b[38;5;241m.\u001b[39m_engine \u001b[38;5;241m=\u001b[39m \u001b[38;5;28;43mself\u001b[39;49m\u001b[38;5;241;43m.\u001b[39;49m\u001b[43m_make_engine\u001b[49m\u001b[43m(\u001b[49m\u001b[43mf\u001b[49m\u001b[43m,\u001b[49m\u001b[43m \u001b[49m\u001b[38;5;28;43mself\u001b[39;49m\u001b[38;5;241;43m.\u001b[39;49m\u001b[43mengine\u001b[49m\u001b[43m)\u001b[49m\n",
      "File \u001b[1;32m~\\AppData\\Roaming\\Python\\Python310\\site-packages\\pandas\\io\\parsers\\readers.py:1880\u001b[0m, in \u001b[0;36mTextFileReader._make_engine\u001b[1;34m(self, f, engine)\u001b[0m\n\u001b[0;32m   1878\u001b[0m     \u001b[38;5;28;01mif\u001b[39;00m \u001b[38;5;124m\"\u001b[39m\u001b[38;5;124mb\u001b[39m\u001b[38;5;124m\"\u001b[39m \u001b[38;5;129;01mnot\u001b[39;00m \u001b[38;5;129;01min\u001b[39;00m mode:\n\u001b[0;32m   1879\u001b[0m         mode \u001b[38;5;241m+\u001b[39m\u001b[38;5;241m=\u001b[39m \u001b[38;5;124m\"\u001b[39m\u001b[38;5;124mb\u001b[39m\u001b[38;5;124m\"\u001b[39m\n\u001b[1;32m-> 1880\u001b[0m \u001b[38;5;28mself\u001b[39m\u001b[38;5;241m.\u001b[39mhandles \u001b[38;5;241m=\u001b[39m \u001b[43mget_handle\u001b[49m\u001b[43m(\u001b[49m\n\u001b[0;32m   1881\u001b[0m \u001b[43m    \u001b[49m\u001b[43mf\u001b[49m\u001b[43m,\u001b[49m\n\u001b[0;32m   1882\u001b[0m \u001b[43m    \u001b[49m\u001b[43mmode\u001b[49m\u001b[43m,\u001b[49m\n\u001b[0;32m   1883\u001b[0m \u001b[43m    \u001b[49m\u001b[43mencoding\u001b[49m\u001b[38;5;241;43m=\u001b[39;49m\u001b[38;5;28;43mself\u001b[39;49m\u001b[38;5;241;43m.\u001b[39;49m\u001b[43moptions\u001b[49m\u001b[38;5;241;43m.\u001b[39;49m\u001b[43mget\u001b[49m\u001b[43m(\u001b[49m\u001b[38;5;124;43m\"\u001b[39;49m\u001b[38;5;124;43mencoding\u001b[39;49m\u001b[38;5;124;43m\"\u001b[39;49m\u001b[43m,\u001b[49m\u001b[43m \u001b[49m\u001b[38;5;28;43;01mNone\u001b[39;49;00m\u001b[43m)\u001b[49m\u001b[43m,\u001b[49m\n\u001b[0;32m   1884\u001b[0m \u001b[43m    \u001b[49m\u001b[43mcompression\u001b[49m\u001b[38;5;241;43m=\u001b[39;49m\u001b[38;5;28;43mself\u001b[39;49m\u001b[38;5;241;43m.\u001b[39;49m\u001b[43moptions\u001b[49m\u001b[38;5;241;43m.\u001b[39;49m\u001b[43mget\u001b[49m\u001b[43m(\u001b[49m\u001b[38;5;124;43m\"\u001b[39;49m\u001b[38;5;124;43mcompression\u001b[39;49m\u001b[38;5;124;43m\"\u001b[39;49m\u001b[43m,\u001b[49m\u001b[43m \u001b[49m\u001b[38;5;28;43;01mNone\u001b[39;49;00m\u001b[43m)\u001b[49m\u001b[43m,\u001b[49m\n\u001b[0;32m   1885\u001b[0m \u001b[43m    \u001b[49m\u001b[43mmemory_map\u001b[49m\u001b[38;5;241;43m=\u001b[39;49m\u001b[38;5;28;43mself\u001b[39;49m\u001b[38;5;241;43m.\u001b[39;49m\u001b[43moptions\u001b[49m\u001b[38;5;241;43m.\u001b[39;49m\u001b[43mget\u001b[49m\u001b[43m(\u001b[49m\u001b[38;5;124;43m\"\u001b[39;49m\u001b[38;5;124;43mmemory_map\u001b[39;49m\u001b[38;5;124;43m\"\u001b[39;49m\u001b[43m,\u001b[49m\u001b[43m \u001b[49m\u001b[38;5;28;43;01mFalse\u001b[39;49;00m\u001b[43m)\u001b[49m\u001b[43m,\u001b[49m\n\u001b[0;32m   1886\u001b[0m \u001b[43m    \u001b[49m\u001b[43mis_text\u001b[49m\u001b[38;5;241;43m=\u001b[39;49m\u001b[43mis_text\u001b[49m\u001b[43m,\u001b[49m\n\u001b[0;32m   1887\u001b[0m \u001b[43m    \u001b[49m\u001b[43merrors\u001b[49m\u001b[38;5;241;43m=\u001b[39;49m\u001b[38;5;28;43mself\u001b[39;49m\u001b[38;5;241;43m.\u001b[39;49m\u001b[43moptions\u001b[49m\u001b[38;5;241;43m.\u001b[39;49m\u001b[43mget\u001b[49m\u001b[43m(\u001b[49m\u001b[38;5;124;43m\"\u001b[39;49m\u001b[38;5;124;43mencoding_errors\u001b[39;49m\u001b[38;5;124;43m\"\u001b[39;49m\u001b[43m,\u001b[49m\u001b[43m \u001b[49m\u001b[38;5;124;43m\"\u001b[39;49m\u001b[38;5;124;43mstrict\u001b[39;49m\u001b[38;5;124;43m\"\u001b[39;49m\u001b[43m)\u001b[49m\u001b[43m,\u001b[49m\n\u001b[0;32m   1888\u001b[0m \u001b[43m    \u001b[49m\u001b[43mstorage_options\u001b[49m\u001b[38;5;241;43m=\u001b[39;49m\u001b[38;5;28;43mself\u001b[39;49m\u001b[38;5;241;43m.\u001b[39;49m\u001b[43moptions\u001b[49m\u001b[38;5;241;43m.\u001b[39;49m\u001b[43mget\u001b[49m\u001b[43m(\u001b[49m\u001b[38;5;124;43m\"\u001b[39;49m\u001b[38;5;124;43mstorage_options\u001b[39;49m\u001b[38;5;124;43m\"\u001b[39;49m\u001b[43m,\u001b[49m\u001b[43m \u001b[49m\u001b[38;5;28;43;01mNone\u001b[39;49;00m\u001b[43m)\u001b[49m\u001b[43m,\u001b[49m\n\u001b[0;32m   1889\u001b[0m \u001b[43m\u001b[49m\u001b[43m)\u001b[49m\n\u001b[0;32m   1890\u001b[0m \u001b[38;5;28;01massert\u001b[39;00m \u001b[38;5;28mself\u001b[39m\u001b[38;5;241m.\u001b[39mhandles \u001b[38;5;129;01mis\u001b[39;00m \u001b[38;5;129;01mnot\u001b[39;00m \u001b[38;5;28;01mNone\u001b[39;00m\n\u001b[0;32m   1891\u001b[0m f \u001b[38;5;241m=\u001b[39m \u001b[38;5;28mself\u001b[39m\u001b[38;5;241m.\u001b[39mhandles\u001b[38;5;241m.\u001b[39mhandle\n",
      "File \u001b[1;32m~\\AppData\\Roaming\\Python\\Python310\\site-packages\\pandas\\io\\common.py:728\u001b[0m, in \u001b[0;36mget_handle\u001b[1;34m(path_or_buf, mode, encoding, compression, memory_map, is_text, errors, storage_options)\u001b[0m\n\u001b[0;32m    725\u001b[0m     codecs\u001b[38;5;241m.\u001b[39mlookup_error(errors)\n\u001b[0;32m    727\u001b[0m \u001b[38;5;66;03m# open URLs\u001b[39;00m\n\u001b[1;32m--> 728\u001b[0m ioargs \u001b[38;5;241m=\u001b[39m \u001b[43m_get_filepath_or_buffer\u001b[49m\u001b[43m(\u001b[49m\n\u001b[0;32m    729\u001b[0m \u001b[43m    \u001b[49m\u001b[43mpath_or_buf\u001b[49m\u001b[43m,\u001b[49m\n\u001b[0;32m    730\u001b[0m \u001b[43m    \u001b[49m\u001b[43mencoding\u001b[49m\u001b[38;5;241;43m=\u001b[39;49m\u001b[43mencoding\u001b[49m\u001b[43m,\u001b[49m\n\u001b[0;32m    731\u001b[0m \u001b[43m    \u001b[49m\u001b[43mcompression\u001b[49m\u001b[38;5;241;43m=\u001b[39;49m\u001b[43mcompression\u001b[49m\u001b[43m,\u001b[49m\n\u001b[0;32m    732\u001b[0m \u001b[43m    \u001b[49m\u001b[43mmode\u001b[49m\u001b[38;5;241;43m=\u001b[39;49m\u001b[43mmode\u001b[49m\u001b[43m,\u001b[49m\n\u001b[0;32m    733\u001b[0m \u001b[43m    \u001b[49m\u001b[43mstorage_options\u001b[49m\u001b[38;5;241;43m=\u001b[39;49m\u001b[43mstorage_options\u001b[49m\u001b[43m,\u001b[49m\n\u001b[0;32m    734\u001b[0m \u001b[43m\u001b[49m\u001b[43m)\u001b[49m\n\u001b[0;32m    736\u001b[0m handle \u001b[38;5;241m=\u001b[39m ioargs\u001b[38;5;241m.\u001b[39mfilepath_or_buffer\n\u001b[0;32m    737\u001b[0m handles: \u001b[38;5;28mlist\u001b[39m[BaseBuffer]\n",
      "File \u001b[1;32m~\\AppData\\Roaming\\Python\\Python310\\site-packages\\pandas\\io\\common.py:472\u001b[0m, in \u001b[0;36m_get_filepath_or_buffer\u001b[1;34m(filepath_or_buffer, encoding, compression, mode, storage_options)\u001b[0m\n\u001b[0;32m    468\u001b[0m \u001b[38;5;28;01mif\u001b[39;00m \u001b[38;5;129;01mnot\u001b[39;00m (\n\u001b[0;32m    469\u001b[0m     \u001b[38;5;28mhasattr\u001b[39m(filepath_or_buffer, \u001b[38;5;124m\"\u001b[39m\u001b[38;5;124mread\u001b[39m\u001b[38;5;124m\"\u001b[39m) \u001b[38;5;129;01mor\u001b[39;00m \u001b[38;5;28mhasattr\u001b[39m(filepath_or_buffer, \u001b[38;5;124m\"\u001b[39m\u001b[38;5;124mwrite\u001b[39m\u001b[38;5;124m\"\u001b[39m)\n\u001b[0;32m    470\u001b[0m ):\n\u001b[0;32m    471\u001b[0m     msg \u001b[38;5;241m=\u001b[39m \u001b[38;5;124mf\u001b[39m\u001b[38;5;124m\"\u001b[39m\u001b[38;5;124mInvalid file path or buffer object type: \u001b[39m\u001b[38;5;132;01m{\u001b[39;00m\u001b[38;5;28mtype\u001b[39m(filepath_or_buffer)\u001b[38;5;132;01m}\u001b[39;00m\u001b[38;5;124m\"\u001b[39m\n\u001b[1;32m--> 472\u001b[0m     \u001b[38;5;28;01mraise\u001b[39;00m \u001b[38;5;167;01mValueError\u001b[39;00m(msg)\n\u001b[0;32m    474\u001b[0m \u001b[38;5;28;01mreturn\u001b[39;00m IOArgs(\n\u001b[0;32m    475\u001b[0m     filepath_or_buffer\u001b[38;5;241m=\u001b[39mfilepath_or_buffer,\n\u001b[0;32m    476\u001b[0m     encoding\u001b[38;5;241m=\u001b[39mencoding,\n\u001b[1;32m   (...)\u001b[0m\n\u001b[0;32m    479\u001b[0m     mode\u001b[38;5;241m=\u001b[39mmode,\n\u001b[0;32m    480\u001b[0m )\n",
      "\u001b[1;31mValueError\u001b[0m: Invalid file path or buffer object type: <class 'dict'>"
     ]
    }
   ],
   "source": [
    "filepaths = ['C:\\ImaginationPerceptionDataset\\DataSet\\perceptionImaginationEEG\\preprocessed\\sub-03\\ses-03\\eeg\\sub3_sess3_50_ica_eeg.fif']\n",
    "subjectIds = []\n",
    "sessionIds = []\n",
    "average_precision = []\n",
    "avergare_recall = []\n",
    "average_f1_score = []\n",
    "\n",
    "for filepath in filepaths:\n",
    "    subjectId = filepath.split('\\\\')[-4]\n",
    "    sessionId = filepath.split('\\\\')[-3]\n",
    "    subjectIds.append(subjectId)\n",
    "    sessionIds.append(sessionId)\n",
    "    report, cm = trainModel(filepath)\n",
    "\n",
    "    average_precision.append(report['weighted avg']['precision'])\n",
    "    avergare_recall.append(report['weighted avg']['recall'])\n",
    "    average_f1_score.append(report['weighted avg']['f1-score'])\n",
    "\n",
    "\n",
    "data = {'SubjectID': subjectIds,\n",
    "    'SessionID':sessionIds,\n",
    "    'Precision':average_precision,\n",
    "    'Recall':avergare_recall,\n",
    "    'f1-score': average_f1_score\n",
    "    }\n",
    "data = pd.DataFrame(data)"
   ]
  },
  {
   "cell_type": "code",
   "execution_count": 25,
   "metadata": {},
   "outputs": [
    {
     "data": {
      "text/plain": [
       "{'SubjectID': ['sub-03'],\n",
       " 'SessionID': ['ses-03'],\n",
       " 'Precision': [0.6091789903110658],\n",
       " 'Recall': [0.6],\n",
       " 'f1-score': [0.5970238095238095]}"
      ]
     },
     "execution_count": 25,
     "metadata": {},
     "output_type": "execute_result"
    }
   ],
   "source": [
    "data = pd."
   ]
  },
  {
   "cell_type": "code",
   "execution_count": null,
   "metadata": {},
   "outputs": [],
   "source": []
  },
  {
   "cell_type": "code",
   "execution_count": null,
   "metadata": {},
   "outputs": [],
   "source": []
  },
  {
   "cell_type": "code",
   "execution_count": 19,
   "metadata": {},
   "outputs": [
    {
     "data": {
      "image/png": "[encoded data removed]",
      "text/plain": [
       "<Figure size 800x600 with 2 Axes>"
      ]
     },
     "metadata": {},
     "output_type": "display_data"
    },
    {
     "name": "stdout",
     "output_type": "stream",
     "text": [
      "              precision    recall  f1-score   support\n",
      "\n",
      " Imagination       0.61      0.54      0.58        94\n",
      "  perception       0.56      0.63      0.59        86\n",
      "\n",
      "    accuracy                           0.58       180\n",
      "   macro avg       0.59      0.59      0.58       180\n",
      "weighted avg       0.59      0.58      0.58       180\n",
      "\n"
     ]
    }
   ],
   "source": [
    "\n",
    "import numpy as np\n",
    "\n",
    "from sklearn.metrics import confusion_matrix, classification_report\n",
    "from matplotlib import pyplot as plt\n",
    "import seaborn as sns\n",
    "\n",
    "pca = PCA(n_components=0.95, random_state=42)\n",
    "X_train_pca = pca.fit_transform(X_train)\n",
    "X_test_pca = pca.transform(X_test)\n",
    "\n",
    "rf = RandomForestClassifier(n_estimators=100, random_state=42)\n",
    "rf.fit(X_train_pca, y_train)\n",
    "y_pred = rf.predict(X_test_pca)\n",
    "\n",
    "cm = confusion_matrix(y_test, y_pred)\n",
    "plt.figure(figsize=(8, 6))\n",
    "sns.heatmap(cm, annot=True, fmt='d', cmap='Blues', xticklabels=['Imagination', 'perception'], yticklabels=['Imagination', 'perception'])\n",
    "plt.xlabel('Predicted')\n",
    "plt.ylabel('True')\n",
    "plt.title('Confusion Matrix')\n",
    "plt.show()\n",
    "\n",
    "# Print classification report\n",
    "print(classification_report(y_test, y_pred, target_names=['Imagination', 'perception']))"
   ]
  },
  {
   "cell_type": "code",
   "execution_count": 52,
   "metadata": {},
   "outputs": [
    {
     "name": "stdout",
     "output_type": "stream",
     "text": [
      "10_5_sqrt\n",
      "10_5_log2\n",
      "10_10_sqrt\n",
      "10_10_log2\n",
      "10_15_sqrt\n",
      "10_15_log2\n",
      "20_5_sqrt\n",
      "20_5_log2\n",
      "20_10_sqrt\n",
      "20_10_log2\n",
      "20_15_sqrt\n",
      "20_15_log2\n",
      "30_5_sqrt\n",
      "30_5_log2\n",
      "30_10_sqrt\n",
      "30_10_log2\n",
      "30_15_sqrt\n",
      "30_15_log2\n"
     ]
    },
    {
     "data": {
      "text/plain": [
       "<Figure size 800x600 with 0 Axes>"
      ]
     },
     "metadata": {},
     "output_type": "display_data"
    },
    {
     "data": {
      "text/plain": [
       "<Figure size 800x600 with 0 Axes>"
      ]
     },
     "metadata": {},
     "output_type": "display_data"
    },
    {
     "data": {
      "text/plain": [
       "<Figure size 800x600 with 0 Axes>"
      ]
     },
     "metadata": {},
     "output_type": "display_data"
    },
    {
     "data": {
      "text/plain": [
       "<Figure size 800x600 with 0 Axes>"
      ]
     },
     "metadata": {},
     "output_type": "display_data"
    },
    {
     "data": {
      "text/plain": [
       "<Figure size 800x600 with 0 Axes>"
      ]
     },
     "metadata": {},
     "output_type": "display_data"
    },
    {
     "data": {
      "text/plain": [
       "<Figure size 800x600 with 0 Axes>"
      ]
     },
     "metadata": {},
     "output_type": "display_data"
    },
    {
     "data": {
      "text/plain": [
       "<Figure size 800x600 with 0 Axes>"
      ]
     },
     "metadata": {},
     "output_type": "display_data"
    },
    {
     "data": {
      "text/plain": [
       "<Figure size 800x600 with 0 Axes>"
      ]
     },
     "metadata": {},
     "output_type": "display_data"
    },
    {
     "data": {
      "text/plain": [
       "<Figure size 800x600 with 0 Axes>"
      ]
     },
     "metadata": {},
     "output_type": "display_data"
    },
    {
     "data": {
      "text/plain": [
       "<Figure size 800x600 with 0 Axes>"
      ]
     },
     "metadata": {},
     "output_type": "display_data"
    },
    {
     "data": {
      "text/plain": [
       "<Figure size 800x600 with 0 Axes>"
      ]
     },
     "metadata": {},
     "output_type": "display_data"
    },
    {
     "data": {
      "text/plain": [
       "<Figure size 800x600 with 0 Axes>"
      ]
     },
     "metadata": {},
     "output_type": "display_data"
    },
    {
     "data": {
      "text/plain": [
       "<Figure size 800x600 with 0 Axes>"
      ]
     },
     "metadata": {},
     "output_type": "display_data"
    },
    {
     "data": {
      "text/plain": [
       "<Figure size 800x600 with 0 Axes>"
      ]
     },
     "metadata": {},
     "output_type": "display_data"
    },
    {
     "data": {
      "text/plain": [
       "<Figure size 800x600 with 0 Axes>"
      ]
     },
     "metadata": {},
     "output_type": "display_data"
    },
    {
     "data": {
      "text/plain": [
       "<Figure size 800x600 with 0 Axes>"
      ]
     },
     "metadata": {},
     "output_type": "display_data"
    },
    {
     "data": {
      "text/plain": [
       "<Figure size 800x600 with 0 Axes>"
      ]
     },
     "metadata": {},
     "output_type": "display_data"
    },
    {
     "data": {
      "text/plain": [
       "<Figure size 800x600 with 0 Axes>"
      ]
     },
     "metadata": {},
     "output_type": "display_data"
    }
   ],
   "source": [
    "import pandas as pd\n",
    "model = []\n",
    "imag_prec = []\n",
    "imag_recall = []\n",
    "imag_f1 = []\n",
    "percep_prec = []\n",
    "percep_recall = []\n",
    "percep_f1 = []\n",
    "weighted_avg = []\n",
    "m_depth = []\n",
    "m_samples= []\n",
    "m_features = []\n",
    "for max_depth in range(10, 40, 10):\n",
    "    for min_samples in range(5, 20, 5):\n",
    "        for max_features in ['sqrt', 'log2']:\n",
    "            print(f'{max_depth}_{min_samples}_{max_features}')\n",
    "            rf = RandomForestClassifier(n_estimators=1000,\n",
    "                                    max_depth=max_depth, \n",
    "                                    min_samples_split=min_samples, \n",
    "                                    max_features=max_features,\n",
    "                                    oob_score=True,\n",
    "                                    warm_start=True,\n",
    "                                    n_jobs=8)\n",
    "            rf.fit(X_train_pca, y_train)\n",
    "            y_pred = rf.predict(X_test_pca)\n",
    "\n",
    "            cm = confusion_matrix(y_test, y_pred)\n",
    "            plt.figure(figsize=(8, 6))\n",
    "            sns.heatmap(cm, annot=True, fmt='d', cmap='Blues', xticklabels=['Imagination', 'perception'], yticklabels=['Imagination', 'perception'])\n",
    "            plt.xlabel('Predicted')\n",
    "            plt.ylabel('True')\n",
    "            plt.title('Confusion Matrix')\n",
    "            plt.savefig(f'{max_depth}_{min_samples}_{max_features}.png')\n",
    "            plt.clf()\n",
    "            \n",
    "            report = classification_report(y_test, y_pred, target_names=['Imagination', 'perception'], output_dict=True)\n",
    "            imag_prec.append(report['Imagination']['precision'])\n",
    "            imag_recall.append(report['Imagination']['recall'])\n",
    "            imag_f1.append(report['Imagination']['f1-score'])\n",
    "            percep_prec.append(report['perception']['precision'])\n",
    "            percep_recall.append(report['perception']['recall'])\n",
    "            percep_f1.append(report['perception']['f1-score'])\n",
    "            model.append(f'{max_depth}_{min_samples}_{max_features}')\n",
    "            weighted_avg.append(report['weighted avg']['f1-score'])\n",
    "            m_depth.append(max_depth)\n",
    "            m_samples.append(min_samples)\n",
    "            m_features.append(max_features)\n",
    "data = {'Model_MaxDepth_MinSamplesSplit_MaxFeatures':model,\n",
    "    'MaxDepth':m_depth,\n",
    "    'MinSamples':m_samples,\n",
    "    'MaxFeatures':m_features,\n",
    "    'Imagination_precision':imag_prec,\n",
    "    'Imagination_recall':imag_recall,\n",
    "    'Imagination_f1-score':imag_f1,\n",
    "    'Perception_precision':percep_prec,\n",
    "    'Perception_recall':percep_recall,\n",
    "    'Perception_f1-score': percep_f1,\n",
    "    'Weighted_f1-score':weighted_avg\n",
    "}\n",
    "data =pd.DataFrame(data)"
   ]
  },
  {
   "cell_type": "code",
   "execution_count": 53,
   "metadata": {},
   "outputs": [],
   "source": [
    "data.to_csv('RandomForestMetrics.csv')"
   ]
  },
  {
   "cell_type": "code",
   "execution_count": 45,
   "metadata": {},
   "outputs": [
    {
     "data": {
      "text/plain": [
       "{'precision': 0.6716442674630828,\n",
       " 'recall': 0.6666666666666666,\n",
       " 'f1-score': 0.6661725955204216,\n",
       " 'support': 180.0}"
      ]
     },
     "execution_count": 45,
     "metadata": {},
     "output_type": "execute_result"
    }
   ],
   "source": [
    "report['weighted avg']"
   ]
  },
  {
   "cell_type": "code",
   "execution_count": null,
   "metadata": {},
   "outputs": [],
   "source": []
  }
 ],
 "metadata": {
  "kernelspec": {
   "display_name": "anot",
   "language": "python",
   "name": "python3"
  },
  "language_info": {
   "codemirror_mode": {
    "name": "ipython",
    "version": 3
   },
   "file_extension": ".py",
   "mimetype": "text/x-python",
   "name": "python",
   "nbconvert_exporter": "python",
   "pygments_lexer": "ipython3",
   "version": "3.10.14"
  }
 },
 "nbformat": 4,
 "nbformat_minor": 2
}
